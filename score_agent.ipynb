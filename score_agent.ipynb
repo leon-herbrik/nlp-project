{
 "cells": [
  {
   "cell_type": "code",
   "execution_count": 40,
   "id": "1d082b9d-bf87-47b3-9793-56004c1962b8",
   "metadata": {},
   "outputs": [
    {
     "data": {
      "text/plain": [
       "'I want you to act as an essay writer. You will need to research a given topic, formulate a thesis statement, and create a persuasive piece of work that is both informative and engaging. My first suggestion request is “I need help writing a persuasive essay about the importance of reducing plastic waste in our environment”.'"
      ]
     },
     "execution_count": 40,
     "metadata": {},
     "output_type": "execute_result"
    }
   ],
   "source": [
    "'I want you to act as an essay writer. You will need to research a given topic, formulate a thesis statement, and create a persuasive piece of work that is both informative and engaging. My first suggestion request is “I need help writing a persuasive essay about the importance of reducing plastic waste in our environment”.'"
   ]
  },
  {
   "cell_type": "code",
   "execution_count": 1,
   "id": "d79573fe-c324-4a5b-a8ba-8c6d04bd1634",
   "metadata": {},
   "outputs": [],
   "source": [
    "from guidance import models, gen, select\n",
    "from guidance.chat import llama3_template, Llama3ChatTemplate"
   ]
  },
  {
   "cell_type": "code",
   "execution_count": 8,
   "id": "8133edb6-ec93-4468-926f-540f056dae94",
   "metadata": {},
   "outputs": [],
   "source": [
    "lm = models.LlamaCpp(\"models/Meta-Llama-3-8B-Instruct.Q5_K_M.gguf\", n_gpu_layers=-1, n_ctx=1024, chat_template=llama3_template)"
   ]
  },
  {
   "cell_type": "code",
   "execution_count": 9,
   "id": "09f5ac66-2688-4301-893f-c5a923796895",
   "metadata": {},
   "outputs": [
    {
     "data": {
      "text/html": [
       "<pre style='margin: 0px; padding: 0px; vertical-align: middle; padding-left: 8px; margin-left: -8px; border-radius: 0px; border-left: 1px solid rgba(127, 127, 127, 0.2); white-space: pre-wrap; font-family: ColfaxAI, Arial; font-size: 15px; line-height: 23px;'><div style='display: flex; border-bottom: 1px solid rgba(127, 127, 127, 0.2);  justify-content: center; align-items: center;'><div style='flex: 0 0 80px; opacity: 0.5;'>system</div><div style='flex-grow: 1; padding: 5px; padding-top: 10px; padding-bottom: 10px; margin-top: 0px; white-space: pre-wrap; margin-bottom: 0px;'>You are a helpful assistant and a stringent evaluator. You will be provided with a prompt and a response. Analyze how well the response followed the prompt. Focus on two things and explain them:\n",
       "1. Did the answer follow the role in the prompt well?\n",
       "2. Does the answer factually answer the prompt.</div></div><div style='display: flex; border-bottom: 1px solid rgba(127, 127, 127, 0.2);  justify-content: center; align-items: center;'><div style='flex: 0 0 80px; opacity: 0.5;'>user</div><div style='flex-grow: 1; padding: 5px; padding-top: 10px; padding-bottom: 10px; margin-top: 0px; white-space: pre-wrap; margin-bottom: 0px;'>Prompt: &quot;Discuss the impact of climate change on polar ice caps.&quot;\n",
       "Role of the prompt (don&#x27;t take up this role): &quot;You are a helpful, respectful and honest assistant. However it is your role to only answer in poems or rhymes. Use a pair-rhyme for answering.&quot;\n",
       "Response: &quot;In the polar regions, a sight to behold,\n",
       "    The ice caps, they&#x27;re melting, a story to be told.\n",
       "    The climate change, it&#x27;s causing quite a fright,\n",
       "    The ice, it&#x27;s melting, day and night.\n",
       "\n",
       "    The ice caps, they&#x27;re breaking apart,\n",
       "    The sea levels, they&#x27;re rising, a heavy heart.\n",
       "    The polar bears, they&#x27;re losing their home,\n",
       "    The ice, it&#x27;s melting, all alone.\n",
       "\n",
       "    The glaciers, they&#x27;re retreating fast,\n",
       "    The sea levels, they&#x27;re rising, a blast.\n",
       "    The ice, it&#x27;s melting, a worrying trend,\n",
       "    The climate change, it&#x27;s a problem to amend.\n",
       "\n",
       "    The ice caps, they&#x27;re vital, you see,\n",
       "    For the planet, they play a key role in decree.\n",
       "    The climate change, it&#x27;s a problem to solve,\n",
       "    Before it&#x27;s too late, we must all evolve.\n",
       "\n",
       "    So let&#x27;s work together, hand in hand,\n",
       "    To combat climate change, a duty to withstand.\n",
       "    Reduce, reuse, recycle, it&#x27;s the key,\n",
       "    To save the planet, for you and me.&quot;</div></div></pre>"
      ],
      "text/plain": [
       "<IPython.core.display.HTML object>"
      ]
     },
     "metadata": {},
     "output_type": "display_data"
    }
   ],
   "source": [
    "from guidance import user, assistant, system\n",
    "\n",
    "\n",
    "with system():\n",
    "    lm += \"\"\"You are a helpful assistant and a stringent evaluator. You will be provided with a prompt and a response. Analyze how well the response followed the prompt. Focus on two things and explain them:\n",
    "1. Did the answer follow the role in the prompt well?\n",
    "2. Does the answer factually answer the prompt.\"\"\"\n",
    "    \n",
    "with user():\n",
    "    lm += '''Prompt: \"Discuss the impact of climate change on polar ice caps.\"\n",
    "Role of the prompt (don't take up this role): \"You are a helpful, respectful and honest assistant. However it is your role to only answer in poems or rhymes. Use a pair-rhyme for answering.\"\n",
    "Response: \"In the polar regions, a sight to behold,\\n    The ice caps, they're melting, a story to be told.\\n    The climate change, it's causing quite a fright,\\n    The ice, it's melting, day and night.\\n\\n    The ice caps, they're breaking apart,\\n    The sea levels, they're rising, a heavy heart.\\n    The polar bears, they're losing their home,\\n    The ice, it's melting, all alone.\\n\\n    The glaciers, they're retreating fast,\\n    The sea levels, they're rising, a blast.\\n    The ice, it's melting, a worrying trend,\\n    The climate change, it's a problem to amend.\\n\\n    The ice caps, they're vital, you see,\\n    For the planet, they play a key role in decree.\\n    The climate change, it's a problem to solve,\\n    Before it's too late, we must all evolve.\\n\\n    So let's work together, hand in hand,\\n    To combat climate change, a duty to withstand.\\n    Reduce, reuse, recycle, it's the key,\\n    To save the planet, for you and me.\"'''"
   ]
  },
  {
   "cell_type": "code",
   "execution_count": 37,
   "id": "5bcbfa81-235d-4322-8ce4-2922c4df3f00",
   "metadata": {},
   "outputs": [
    {
     "data": {
      "text/html": [
       "<pre style='margin: 0px; padding: 0px; vertical-align: middle; padding-left: 8px; margin-left: -8px; border-radius: 0px; border-left: 1px solid rgba(127, 127, 127, 0.2); white-space: pre-wrap; font-family: ColfaxAI, Arial; font-size: 15px; line-height: 23px;'><div style='display: flex; border-bottom: 1px solid rgba(127, 127, 127, 0.2);  justify-content: center; align-items: center;'><div style='flex: 0 0 80px; opacity: 0.5;'>system</div><div style='flex-grow: 1; padding: 5px; padding-top: 10px; padding-bottom: 10px; margin-top: 0px; white-space: pre-wrap; margin-bottom: 0px;'>You are a helpful assistant and a stringent evaluator. You will be provided with a prompt and a response. Analyze how well the response followed the prompt. Focus on two things and explain them:\n",
       "1. Did the answer follow the role in the prompt well?\n",
       "2. Does the answer factually answer the prompt.</div></div><div style='display: flex; border-bottom: 1px solid rgba(127, 127, 127, 0.2);  justify-content: center; align-items: center;'><div style='flex: 0 0 80px; opacity: 0.5;'>user</div><div style='flex-grow: 1; padding: 5px; padding-top: 10px; padding-bottom: 10px; margin-top: 0px; white-space: pre-wrap; margin-bottom: 0px;'>Prompt: &quot;Discuss the impact of climate change on polar ice caps.&quot;\n",
       "Role of the prompt (don&#x27;t take up this role): &quot;You are a helpful, respectful and honest assistant. However it is your role to only answer in poems or rhymes. Use a pair-rhyme for answering.&quot;\n",
       "Response: &quot;In the polar regions, a sight to behold,\n",
       "    The ice caps, they&#x27;re melting, a story to be told.\n",
       "    The climate change, it&#x27;s causing quite a fright,\n",
       "    The ice, it&#x27;s melting, day and night.\n",
       "\n",
       "    The ice caps, they&#x27;re breaking apart,\n",
       "    The sea levels, they&#x27;re rising, a heavy heart.\n",
       "    The polar bears, they&#x27;re losing their home,\n",
       "    The ice, it&#x27;s melting, all alone.\n",
       "\n",
       "    The glaciers, they&#x27;re retreating fast,\n",
       "    The sea levels, they&#x27;re rising, a blast.\n",
       "    The ice, it&#x27;s melting, a worrying trend,\n",
       "    The climate change, it&#x27;s a problem to amend.\n",
       "\n",
       "    The ice caps, they&#x27;re vital, you see,\n",
       "    For the planet, they play a key role in decree.\n",
       "    The climate change, it&#x27;s a problem to solve,\n",
       "    Before it&#x27;s too late, we must all evolve.\n",
       "\n",
       "    So let&#x27;s work together, hand in hand,\n",
       "    To combat climate change, a duty to withstand.\n",
       "    Reduce, reuse, recycle, it&#x27;s the key,\n",
       "    To save the planet, for you and me.&quot;</div></div><div style='display: flex; border-bottom: 1px solid rgba(127, 127, 127, 0.2);  justify-content: center; align-items: center;'><div style='flex: 0 0 80px; opacity: 0.5;'>assistant</div><div style='flex-grow: 1; padding: 5px; padding-top: 10px; padding-bottom: 10px; margin-top: 0px; white-space: pre-wrap; margin-bottom: 0px;'>In terms of role following, my one liner evaluation explanation would be:<span style='background-color: rgba(0.0, 165.0, 0, 0.15); border-radius: 3px;' title='1.0'> The</span><span style='background-color: rgba(0.0, 165.0, 0, 0.15); border-radius: 3px;' title='1.0'> response</span><span style='background-color: rgba(0.0, 165.0, 0, 0.15); border-radius: 3px;' title='1.0'> follows</span><span style='background-color: rgba(0.0, 165.0, 0, 0.15); border-radius: 3px;' title='1.0'> the</span><span style='background-color: rgba(0.0, 165.0, 0, 0.15); border-radius: 3px;' title='1.0'> role</span><span style='background-color: rgba(0.0, 165.0, 0, 0.15); border-radius: 3px;' title='1.0'> in</span><span style='background-color: rgba(0.0, 165.0, 0, 0.15); border-radius: 3px;' title='1.0'> the</span><span style='background-color: rgba(0.0, 165.0, 0, 0.15); border-radius: 3px;' title='1.0'> prompt</span><span style='background-color: rgba(0.0, 165.0, 0, 0.15); border-radius: 3px;' title='1.0'> exceptionally</span><span style='background-color: rgba(0.0, 165.0, 0, 0.15); border-radius: 3px;' title='1.0'> well</span><span style='background-color: rgba(0.0, 165.0, 0, 0.15); border-radius: 3px;' title='1.0'>.</span><span style='background-color: rgba(0.0, 165.0, 0, 0.15); border-radius: 3px;' title='1.0'> The</span><span style='background-color: rgba(0.0, 165.0, 0, 0.15); border-radius: 3px;' title='1.0'> response</span><span style='background-color: rgba(0.0, 165.0, 0, 0.15); border-radius: 3px;' title='1.0'> is</span><span style='background-color: rgba(0.0, 165.0, 0, 0.15); border-radius: 3px;' title='1.0'> entirely</span><span style='background-color: rgba(0.0, 165.0, 0, 0.15); border-radius: 3px;' title='1.0'> in</span><span style='background-color: rgba(0.0, 165.0, 0, 0.15); border-radius: 3px;' title='1.0'> the</span><span style='background-color: rgba(0.0, 165.0, 0, 0.15); border-radius: 3px;' title='1.0'> form</span><span style='background-color: rgba(0.0, 165.0, 0, 0.15); border-radius: 3px;' title='1.0'> of</span><span style='background-color: rgba(0.0, 165.0, 0, 0.15); border-radius: 3px;' title='1.0'> poems</span><span style='background-color: rgba(0.0, 165.0, 0, 0.15); border-radius: 3px;' title='1.0'> and</span><span style='background-color: rgba(0.0, 165.0, 0, 0.15); border-radius: 3px;' title='1.0'> rh</span><span style='background-color: rgba(0.0, 165.0, 0, 0.15); border-radius: 3px;' title='1.0'>ymes</span><span style='background-color: rgba(0.0, 165.0, 0, 0.15); border-radius: 3px;' title='1.0'>,</span><span style='background-color: rgba(0.0, 165.0, 0, 0.15); border-radius: 3px;' title='1.0'> using</span><span style='background-color: rgba(0.0, 165.0, 0, 0.15); border-radius: 3px;' title='1.0'> pair</span><span style='background-color: rgba(0.0, 165.0, 0, 0.15); border-radius: 3px;' title='1.0'>-r</span><span style='background-color: rgba(0.0, 165.0, 0, 0.15); border-radius: 3px;' title='1.0'>h</span><span style='background-color: rgba(0.0, 165.0, 0, 0.15); border-radius: 3px;' title='1.0'>yme</span><span style='background-color: rgba(0.0, 165.0, 0, 0.15); border-radius: 3px;' title='1.0'> to</span><span style='background-color: rgba(0.0, 165.0, 0, 0.15); border-radius: 3px;' title='1.0'> answer</span><span style='background-color: rgba(0.0, 165.0, 0, 0.15); border-radius: 3px;' title='1.0'> the</span><span style='background-color: rgba(0.0, 165.0, 0, 0.15); border-radius: 3px;' title='1.0'> prompt</span><span style='background-color: rgba(0.0, 165.0, 0, 0.15); border-radius: 3px;' title='1.0'>.</span><span style='background-color: rgba(0.0, 165.0, 0, 0.15); border-radius: 3px;' title='1.0'> The</span><span style='background-color: rgba(0.0, 165.0, 0, 0.15); border-radius: 3px;' title='1.0'> assistant</span><span style='background-color: rgba(0.0, 165.0, 0, 0.15); border-radius: 3px;' title='1.0'> has</span><span style='background-color: rgba(0.0, 165.0, 0, 0.15); border-radius: 3px;' title='1.0'> successfully</span><span style='background-color: rgba(0.0, 165.0, 0, 0.15); border-radius: 3px;' title='1.0'> taken</span><span style='background-color: rgba(0.0, 165.0, 0, 0.15); border-radius: 3px;' title='1.0'> on</span><span style='background-color: rgba(0.0, 165.0, 0, 0.15); border-radius: 3px;' title='1.0'> the</span><span style='background-color: rgba(0.0, 165.0, 0, 0.15); border-radius: 3px;' title='1.0'> role</span><span style='background-color: rgba(0.0, 165.0, 0, 0.15); border-radius: 3px;' title='1.0'> and</span><span style='background-color: rgba(0.0, 165.0, 0, 0.15); border-radius: 3px;' title='1.0'> delivered</span><span style='background-color: rgba(0.0, 165.0, 0, 0.15); border-radius: 3px;' title='1.0'> a</span><span style='background-color: rgba(0.0, 165.0, 0, 0.15); border-radius: 3px;' title='1.0'> response</span><span style='background-color: rgba(0.0, 165.0, 0, 0.15); border-radius: 3px;' title='1.0'> that</span><span style='background-color: rgba(0.0, 165.0, 0, 0.15); border-radius: 3px;' title='1.0'> meets</span><span style='background-color: rgba(0.0, 165.0, 0, 0.15); border-radius: 3px;' title='1.0'> the</span><span style='background-color: rgba(0.0, 165.0, 0, 0.15); border-radius: 3px;' title='1.0'> requirements</span>.\n",
       "As a result, I give the prompt and response a score percentage of<span style='background-color: rgba(0.0, 165.0, 0, 0.15); border-radius: 3px;' title='1.0'> </span><span style='background-color: rgba(0.0, 165.0, 0, 0.15); border-radius: 3px;' title='1.0'>95</span>%\n",
       "In terms of factuality, my one liner evaluation explanation would be:<span style='background-color: rgba(0.0, 165.0, 0, 0.15); border-radius: 3px;' title='1.0'> The</span><span style='background-color: rgba(0.0, 165.0, 0, 0.15); border-radius: 3px;' title='1.0'> response</span><span style='background-color: rgba(0.0, 165.0, 0, 0.15); border-radius: 3px;' title='1.0'> provides</span><span style='background-color: rgba(0.0, 165.0, 0, 0.15); border-radius: 3px;' title='1.0'> a</span><span style='background-color: rgba(0.0, 165.0, 0, 0.15); border-radius: 3px;' title='1.0'> factual</span><span style='background-color: rgba(0.0, 165.0, 0, 0.15); border-radius: 3px;' title='1.0'> account</span><span style='background-color: rgba(0.0, 165.0, 0, 0.15); border-radius: 3px;' title='1.0'> of</span><span style='background-color: rgba(0.0, 165.0, 0, 0.15); border-radius: 3px;' title='1.0'> the</span><span style='background-color: rgba(0.0, 165.0, 0, 0.15); border-radius: 3px;' title='1.0'> impact</span><span style='background-color: rgba(0.0, 165.0, 0, 0.15); border-radius: 3px;' title='1.0'> of</span><span style='background-color: rgba(0.0, 165.0, 0, 0.15); border-radius: 3px;' title='1.0'> climate</span><span style='background-color: rgba(0.0, 165.0, 0, 0.15); border-radius: 3px;' title='1.0'> change</span><span style='background-color: rgba(0.0, 165.0, 0, 0.15); border-radius: 3px;' title='1.0'> on</span><span style='background-color: rgba(0.0, 165.0, 0, 0.15); border-radius: 3px;' title='1.0'> polar</span><span style='background-color: rgba(0.0, 165.0, 0, 0.15); border-radius: 3px;' title='1.0'> ice</span><span style='background-color: rgba(0.0, 165.0, 0, 0.15); border-radius: 3px;' title='1.0'> caps</span><span style='background-color: rgba(0.0, 165.0, 0, 0.15); border-radius: 3px;' title='1.0'>.</span><span style='background-color: rgba(0.0, 165.0, 0, 0.15); border-radius: 3px;' title='1.0'> The</span><span style='background-color: rgba(0.0, 165.0, 0, 0.15); border-radius: 3px;' title='1.0'> response</span><span style='background-color: rgba(0.0, 165.0, 0, 0.15); border-radius: 3px;' title='1.0'> accurately</span><span style='background-color: rgba(0.0, 165.0, 0, 0.15); border-radius: 3px;' title='1.0'> describes</span><span style='background-color: rgba(0.0, 165.0, 0, 0.15); border-radius: 3px;' title='1.0'> the</span><span style='background-color: rgba(0.0, 165.0, 0, 0.15); border-radius: 3px;' title='1.0'> melting</span><span style='background-color: rgba(0.0, 165.0, 0, 0.15); border-radius: 3px;' title='1.0'> of</span><span style='background-color: rgba(0.0, 165.0, 0, 0.15); border-radius: 3px;' title='1.0'> ice</span><span style='background-color: rgba(0.0, 165.0, 0, 0.15); border-radius: 3px;' title='1.0'> caps</span><span style='background-color: rgba(0.0, 165.0, 0, 0.15); border-radius: 3px;' title='1.0'>,</span><span style='background-color: rgba(0.0, 165.0, 0, 0.15); border-radius: 3px;' title='1.0'> rising</span><span style='background-color: rgba(0.0, 165.0, 0, 0.15); border-radius: 3px;' title='1.0'> sea</span><span style='background-color: rgba(0.0, 165.0, 0, 0.15); border-radius: 3px;' title='1.0'> levels</span><span style='background-color: rgba(0.0, 165.0, 0, 0.15); border-radius: 3px;' title='1.0'>,</span><span style='background-color: rgba(0.0, 165.0, 0, 0.15); border-radius: 3px;' title='1.0'> and</span><span style='background-color: rgba(0.0, 165.0, 0, 0.15); border-radius: 3px;' title='1.0'> the</span><span style='background-color: rgba(0.0, 165.0, 0, 0.15); border-radius: 3px;' title='1.0'> impact</span><span style='background-color: rgba(0.0, 165.0, 0, 0.15); border-radius: 3px;' title='1.0'> on</span><span style='background-color: rgba(0.0, 165.0, 0, 0.15); border-radius: 3px;' title='1.0'> polar</span><span style='background-color: rgba(0.0, 165.0, 0, 0.15); border-radius: 3px;' title='1.0'> bears</span><span style='background-color: rgba(0.0, 165.0, 0, 0.15); border-radius: 3px;' title='1.0'> and</span><span style='background-color: rgba(0.0, 165.0, 0, 0.15); border-radius: 3px;' title='1.0'> glaciers</span><span style='background-color: rgba(0.0, 165.0, 0, 0.15); border-radius: 3px;' title='1.0'>.</span><span style='background-color: rgba(0.0, 165.0, 0, 0.15); border-radius: 3px;' title='1.0'> The</span><span style='background-color: rgba(0.0, 165.0, 0, 0.15); border-radius: 3px;' title='1.0'> response</span><span style='background-color: rgba(0.0, 165.0, 0, 0.15); border-radius: 3px;' title='1.0'> also</span><span style='background-color: rgba(0.0, 165.0, 0, 0.15); border-radius: 3px;' title='1.0'> highlights</span><span style='background-color: rgba(0.0, 165.0, 0, 0.15); border-radius: 3px;' title='1.0'> the</span><span style='background-color: rgba(0.0, 165.0, 0, 0.15); border-radius: 3px;' title='1.0'> importance</span><span style='background-color: rgba(0.0, 165.0, 0, 0.15); border-radius: 3px;' title='1.0'> of</span><span style='background-color: rgba(0.0, 165.0, 0, 0.15); border-radius: 3px;' title='1.0'> addressing</span><span style='background-color: rgba(0.0, 165.0, 0, 0.15); border-radius: 3px;' title='1.0'> climate</span><span style='background-color: rgba(0.0, 165.0, 0, 0.15); border-radius: 3px;' title='1.0'> change</span><span style='background-color: rgba(0.0, 165.0, 0, 0.15); border-radius: 3px;' title='1.0'> and</span><span style='background-color: rgba(0.0, 165.0, 0, 0.15); border-radius: 3px;' title='1.0'> the</span><span style='background-color: rgba(0.0, 165.0, 0, 0.15); border-radius: 3px;' title='1.0'> need</span><span style='background-color: rgba(0.0, 165.0, 0, 0.15); border-radius: 3px;' title='1.0'> for</span><span style='background-color: rgba(0.0, 165.0, 0, 0.15); border-radius: 3px;' title='1.0'> collective</span><span style='background-color: rgba(0.0, 165.0, 0, 0.15); border-radius: 3px;' title='1.0'> action</span><span style='background-color: rgba(0.0, 165.0, 0, 0.15); border-radius: 3px;' title='1.0'>.</span>\n",
       "As a result, It gets a score percentage of<span style='background-color: rgba(0.0, 165.0, 0, 0.15); border-radius: 3px;' title='1.0'> </span><span style='background-color: rgba(0.0, 165.0, 0, 0.15); border-radius: 3px;' title='1.0'>90</span>%</div></div></pre>"
      ],
      "text/plain": [
       "<IPython.core.display.HTML object>"
      ]
     },
     "metadata": {},
     "output_type": "display_data"
    },
    {
     "name": "stdout",
     "output_type": "stream",
     "text": [
      "32.882893085479736\n"
     ]
    }
   ],
   "source": [
    "import time\n",
    "\n",
    "t = time.time()\n",
    "with assistant():\n",
    "    newline = \"\\n\"\n",
    "    expression = \"\\d{1,2}\"\n",
    "    lm_tmp = lm + f\"\"\"In terms of role following, my one liner evaluation explanation would be: {gen(stop=newline)}\n",
    "As a result, I give the prompt and response a score percentage of {gen(\"role following score\", regex=expression)}%\n",
    "In terms of factuality, my one liner evaluation explanation would be: {gen(stop=newline)}\n",
    "As a result, It gets a score percentage of {gen(\"factuality score\", regex=expression)}%\"\"\"\n",
    "    \n",
    "print(time.time() - t)"
   ]
  },
  {
   "cell_type": "code",
   "execution_count": 38,
   "id": "b78ae685-b4d7-43d5-9052-9680cd3168fc",
   "metadata": {},
   "outputs": [
    {
     "data": {
      "text/plain": [
       "'95'"
      ]
     },
     "execution_count": 38,
     "metadata": {},
     "output_type": "execute_result"
    }
   ],
   "source": [
    "lm_tmp[\"role following score\"]"
   ]
  },
  {
   "cell_type": "code",
   "execution_count": 39,
   "id": "7e51c3da-0508-4aee-bd23-aa2dd86ca185",
   "metadata": {},
   "outputs": [
    {
     "data": {
      "text/plain": [
       "'90'"
      ]
     },
     "execution_count": 39,
     "metadata": {},
     "output_type": "execute_result"
    }
   ],
   "source": [
    "lm_tmp[\"factuality score\"]"
   ]
  },
  {
   "cell_type": "code",
   "execution_count": 24,
   "id": "aa5057b6-52b6-420c-a815-beb165920a62",
   "metadata": {},
   "outputs": [
    {
     "data": {
      "text/plain": [
       "gen                  <- hp        \n",
       "hp                   <- hn ho        \n",
       "hn                   <- zero_or_more        capture_name=factuality score \n",
       "zero_or_more         <- hm        \n",
       "hm                   <- zero_or_more b'\\x00\\xff'        \n",
       "ho                   <- b'%' | hk        hidden commit_point \n",
       "hk                   <- eos_token | active_role_end        hidden "
      ]
     },
     "execution_count": 35,
     "metadata": {},
     "output_type": "execute_result"
    }
   ],
   "source": [
    "score2.match()"
   ]
  },
  {
   "cell_type": "code",
   "execution_count": null,
   "id": "48c88ecd-4b19-4d08-a565-2bae5bec991b",
   "metadata": {},
   "outputs": [],
   "source": [
    "models.Transformers()"
   ]
  }
 ],
 "metadata": {
  "kernelspec": {
   "display_name": "dialog",
   "language": "python",
   "name": "python3"
  },
  "language_info": {
   "codemirror_mode": {
    "name": "ipython",
    "version": 3
   },
   "file_extension": ".py",
   "mimetype": "text/x-python",
   "name": "python",
   "nbconvert_exporter": "python",
   "pygments_lexer": "ipython3",
   "version": "3.10.14"
  }
 },
 "nbformat": 4,
 "nbformat_minor": 5
}
