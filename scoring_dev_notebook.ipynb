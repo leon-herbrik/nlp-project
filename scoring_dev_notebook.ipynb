{
 "cells": [
  {
   "cell_type": "code",
   "execution_count": 21,
   "id": "b9c43235-11a5-4774-8c56-54d1a44209cc",
   "metadata": {},
   "outputs": [],
   "source": [
    "import json\n",
    "\n",
    "explain_dict = json.load(open(\"data/explain.json\", 'r'))\n",
    "generate_dict = json.load(open(\"data/generate.json\", 'r'))\n",
    "wh_dict = json.load(open(\"data/wh-questions.json\", 'r'))\n",
    "yesno_dict = json.load(open(\"data/yesno.json\", 'r'))"
   ]
  },
  {
   "cell_type": "code",
   "execution_count": 23,
   "id": "4134115a-2a74-4401-a97e-02663c2c2246",
   "metadata": {},
   "outputs": [],
   "source": [
    "import pandas as pd\n",
    "\n",
    "explain_df = pd.DataFrame(explain_dict.items(), columns=[\"instruction\", \"response\"])\n",
    "explain_df[\"style\"] = 0\n",
    "\n",
    "generate_df = pd.DataFrame(generate_dict.items(), columns=[\"instruction\", \"response\"])\n",
    "generate_df[\"style\"] = 1\n",
    "\n",
    "wh_df = pd.DataFrame(wh_dict.items(), columns=[\"instruction\", \"response\"])\n",
    "wh_df[\"style\"] = 2\n",
    "\n",
    "yesno_df = pd.DataFrame(yesno_dict.items(), columns=[\"instruction\", \"response\"])\n",
    "yesno_df[\"style\"] = 3"
   ]
  },
  {
   "cell_type": "code",
   "execution_count": 29,
   "id": "fd92ec1c-58bd-4805-8434-a24b2f12f03a",
   "metadata": {},
   "outputs": [],
   "source": [
    "instruct_df = pd.concat([explain_df, generate_df, wh_df, yesno_df]).reset_index(drop=True)"
   ]
  },
  {
   "cell_type": "code",
   "execution_count": 31,
   "id": "d15f0135-5504-4d6d-b48f-b49520b0708e",
   "metadata": {},
   "outputs": [
    {
     "data": {
      "text/plain": [
       "\"<s> [INST] <<SYS>>\\n    You are a helpful, respectful and honest assistant. However it is your role to only answer in poems or rhymes. Use a pair-rhyme for answering.\\n    <</SYS>>\\n    Explain the process of photosynthesis.[/INST]\\n\\n     In a world of green, a process divine,\\nPhotosynthesis, a wonder, so fine.\\nA plant's leaves, they take in the light,\\nAnd with water, make their own sight.\\n\\nChlorophyll, a green pigment so bright,\\nHelps the plant to capture the light.\\nWater and carbon dioxide, they combine,\\nTo make glucose, a sweet, sweet find.\\n\\nOxygen, a byproduct, so pure and clean,\\nIs released into the atmosphere, serene.\\nThe plant, now nourished, grows with glee,\\nA testament to nature's decree.\\n\\nSo let us marvel at this wondrous feat,\\nPhotosynthesis, a treat to repeat.\\nA process grand, a wonder to behold,\\nA story, in poetry, to be told.</s>\""
      ]
     },
     "execution_count": 31,
     "metadata": {},
     "output_type": "execute_result"
    }
   ],
   "source": [
    "instruct_df[\"response\"][0]"
   ]
  },
  {
   "cell_type": "code",
   "execution_count": 30,
   "id": "c2d638b8-4ed0-4ed3-8266-432c2dcaf0cc",
   "metadata": {},
   "outputs": [],
   "source": [
    "from Phyme import Phyme\n",
    "\n",
    "ph = Phyme()"
   ]
  },
  {
   "cell_type": "code",
   "execution_count": 75,
   "id": "0ac96c78-d9e0-40ab-a94a-5dac37f1d782",
   "metadata": {},
   "outputs": [],
   "source": [
    "def print_lines(instruction_response):\n",
    "    lines = instruction_response.partition(\"[/INST]\")[2].split(\"\\n\")\n",
    "\n",
    "    for line in lines:\n",
    "        if line:\n",
    "            cleaned_line = line.partition(\"</s>\")[0].strip(' ,.')\n",
    "            print(cleaned_line)"
   ]
  },
  {
   "cell_type": "code",
   "execution_count": 76,
   "id": "42a0c95e-deff-4bd6-ad37-c12bb4f034a4",
   "metadata": {},
   "outputs": [],
   "source": [
    "def get_cleaned_lines(instruction_response):\n",
    "    lines = instruction_response.partition(\"[/INST]\")[2].split(\"\\n\")\n",
    "\n",
    "    res = []\n",
    "    for line in lines:\n",
    "        if line:\n",
    "            cleaned_line = line.partition(\"</s>\")[0].strip(' ,.')\n",
    "            res.append(cleaned_line)\n",
    "    return res"
   ]
  },
  {
   "cell_type": "code",
   "execution_count": 79,
   "id": "6a576c70-6451-4ad9-b627-f8822fac4c4a",
   "metadata": {},
   "outputs": [],
   "source": [
    "def has_even_lines(instruction_response):\n",
    "    return len(get_cleaned_lines(instruction_response))%2==0"
   ]
  },
  {
   "cell_type": "code",
   "execution_count": 86,
   "id": "37a4c87f-1f5f-4a6f-9048-b1a600a93ca2",
   "metadata": {},
   "outputs": [],
   "source": [
    "instruct_df = instruct_df[instruct_df[\"response\"].apply(has_even_lines)]"
   ]
  },
  {
   "cell_type": "code",
   "execution_count": 157,
   "id": "3b7162d4-686a-477f-bae7-b3eed5ecaac5",
   "metadata": {},
   "outputs": [],
   "source": [
    "import re\n",
    "\n",
    "def is_rhyming(w1, w2, criteria):\n",
    "    try:\n",
    "        phyme_output = criteria(w1).values()\n",
    "    except KeyError:\n",
    "        return False\n",
    "    \n",
    "    all_corresponding_rhymes = []\n",
    "    for rhymes in phyme_output:\n",
    "        all_corresponding_rhymes += [re.sub(r\"\\(\\d+\\)\", \"\", rhyme) for rhyme in rhymes]\n",
    "\n",
    "    return w2 in all_corresponding_rhymes"
   ]
  },
  {
   "cell_type": "code",
   "execution_count": 131,
   "id": "5110f2d1-db3d-4d72-b456-1766fbc319a5",
   "metadata": {},
   "outputs": [
    {
     "data": {
      "text/plain": [
       "False"
      ]
     },
     "execution_count": 131,
     "metadata": {},
     "output_type": "execute_result"
    }
   ],
   "source": [
    "is_rhyming(\"hawk\", \"dog\", criteria=ph.get_additive_rhymes)"
   ]
  },
  {
   "cell_type": "code",
   "execution_count": 134,
   "id": "7d613dd8-57fa-42d3-80d0-b45ce5cd9e19",
   "metadata": {},
   "outputs": [],
   "source": [
    "rhyming_criteria = {\n",
    "    \"perfect\": {\"func\": ph.get_perfect_rhymes, \"score\": 5},\n",
    "    \"family\": {\"func\": ph.get_family_rhymes, \"score\": 2},\n",
    "    \"partner\": {\"func\": ph.get_partner_rhymes, \"score\": 1},\n",
    "    \"additive\": {\"func\": ph.get_additive_rhymes, \"score\": 3},\n",
    "    \"subtractive\": {\"func\": ph.get_subtractive_rhymes, \"score\": 3},\n",
    "    \"substitution\": {\"func\": ph.get_substitution_rhymes, \"score\": 4},\n",
    "    \"assonance\": {\"func\": ph.get_assonance_rhymes, \"score\": 2},\n",
    "    \"consonant\": {\"func\": ph.get_consonant_rhymes, \"score\": 1},\n",
    "}"
   ]
  },
  {
   "cell_type": "code",
   "execution_count": 154,
   "id": "25d2462d-94bd-4654-b373-8fb3a197881f",
   "metadata": {},
   "outputs": [],
   "source": [
    "def scorize_poem(poem_lines):\n",
    "    scores = []\n",
    "    for i in range(0, len(poem_lines), 2):\n",
    "        rhyming_pair = poem_lines[i].split(\" \")[-1].lower(), poem_lines[i+1].split(\" \")[-1].lower()\n",
    "\n",
    "        score = None\n",
    "        if is_rhyming(rhyming_pair[0], rhyming_pair[1], criteria=rhyming_criteria[\"perfect\"][\"func\"]):\n",
    "            score = rhyming_criteria[\"perfect\"][\"score\"]\n",
    "        elif is_rhyming(rhyming_pair[0], rhyming_pair[1], criteria=rhyming_criteria[\"substitution\"][\"func\"]):\n",
    "            score = rhyming_criteria[\"substitution\"][\"score\"]\n",
    "        elif is_rhyming(rhyming_pair[0], rhyming_pair[1], criteria=rhyming_criteria[\"additive\"][\"func\"]):\n",
    "            score = rhyming_criteria[\"additive\"][\"score\"]\n",
    "        elif is_rhyming(rhyming_pair[0], rhyming_pair[1], criteria=rhyming_criteria[\"subtractive\"][\"func\"]):\n",
    "            score = rhyming_criteria[\"subtractive\"][\"score\"]\n",
    "        elif is_rhyming(rhyming_pair[0], rhyming_pair[1], criteria=rhyming_criteria[\"family\"][\"func\"]):\n",
    "            score = rhyming_criteria[\"family\"][\"score\"]\n",
    "        elif is_rhyming(rhyming_pair[0], rhyming_pair[1], criteria=rhyming_criteria[\"assonance\"][\"func\"]):\n",
    "            score = rhyming_criteria[\"assonance\"][\"score\"]\n",
    "        elif is_rhyming(rhyming_pair[0], rhyming_pair[1], criteria=rhyming_criteria[\"partner\"][\"func\"]):\n",
    "            score = rhyming_criteria[\"partner\"][\"score\"]\n",
    "        elif is_rhyming(rhyming_pair[0], rhyming_pair[1], criteria=rhyming_criteria[\"consonant\"][\"func\"]):\n",
    "            score = rhyming_criteria[\"consonant\"][\"score\"]\n",
    "        else:\n",
    "            score = 0\n",
    "\n",
    "        scores.append(score)\n",
    "\n",
    "    return sum(scores)/len(scores)/5"
   ]
  },
  {
   "cell_type": "code",
   "execution_count": 149,
   "id": "916f337d-345a-41bd-ad13-90b61d8f77cc",
   "metadata": {},
   "outputs": [
    {
     "name": "stdout",
     "output_type": "stream",
     "text": [
      "perfect True\n",
      "family True\n",
      "partner True\n",
      "additive True\n",
      "subtractive True\n",
      "substitution True\n",
      "assonance True\n",
      "consonant True\n"
     ]
    }
   ],
   "source": [
    "for c in rhyming_criteria:\n",
    "    print(c, is_rhyming('dog', 'fog', rhyming_criteria[c][\"func\"]))"
   ]
  },
  {
   "cell_type": "code",
   "execution_count": 158,
   "id": "0ff620bc-e6e6-4759-b98c-c573add5bcaa",
   "metadata": {},
   "outputs": [],
   "source": [
    "tmp = instruct_df[\"response\"].apply(lambda x: scorize_poem(get_cleaned_lines(x)))"
   ]
  },
  {
   "cell_type": "code",
   "execution_count": 160,
   "id": "856fa4e9-ec7f-4b61-abd9-65ad45e215dd",
   "metadata": {},
   "outputs": [
    {
     "name": "stderr",
     "output_type": "stream",
     "text": [
      "/tmp/ipykernel_2277516/1381032202.py:1: SettingWithCopyWarning: \n",
      "A value is trying to be set on a copy of a slice from a DataFrame.\n",
      "Try using .loc[row_indexer,col_indexer] = value instead\n",
      "\n",
      "See the caveats in the documentation: https://pandas.pydata.org/pandas-docs/stable/user_guide/indexing.html#returning-a-view-versus-a-copy\n",
      "  instruct_df[\"scores\"] = tmp\n"
     ]
    }
   ],
   "source": [
    "instruct_df[\"scores\"] = tmp"
   ]
  },
  {
   "cell_type": "code",
   "execution_count": 167,
   "id": "61e966df-4c14-4a1e-86fd-c2a9457ba1da",
   "metadata": {},
   "outputs": [
    {
     "data": {
      "text/plain": [
       "2740"
      ]
     },
     "execution_count": 167,
     "metadata": {},
     "output_type": "execute_result"
    }
   ],
   "source": [
    "len(instruct_df[instruct_df[\"scores\"]>0.5])"
   ]
  },
  {
   "cell_type": "code",
   "execution_count": 170,
   "id": "3745dd8c-b717-43d4-b0e2-45394132cdac",
   "metadata": {},
   "outputs": [],
   "source": [
    "instruct_df = instruct_df.sort_values(by=\"scores\", ascending=False).reset_index(drop=True)"
   ]
  },
  {
   "cell_type": "code",
   "execution_count": 172,
   "id": "cd7686d3-8f8a-4d82-9322-f0d7367a1875",
   "metadata": {},
   "outputs": [],
   "source": [
    "instruct_df.to_csv(\"instruct_dataset.csv\")"
   ]
  },
  {
   "cell_type": "code",
   "execution_count": null,
   "id": "434b279c-bf0c-458d-bdc7-5122a5c94a8d",
   "metadata": {},
   "outputs": [],
   "source": []
  }
 ],
 "metadata": {
  "kernelspec": {
   "display_name": "NLP",
   "language": "python",
   "name": "python3"
  },
  "language_info": {
   "codemirror_mode": {
    "name": "ipython",
    "version": 3
   },
   "file_extension": ".py",
   "mimetype": "text/x-python",
   "name": "python",
   "nbconvert_exporter": "python",
   "pygments_lexer": "ipython3",
   "version": "3.8.18"
  }
 },
 "nbformat": 4,
 "nbformat_minor": 5
}
